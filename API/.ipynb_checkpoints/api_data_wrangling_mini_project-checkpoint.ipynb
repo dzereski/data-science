{
 "cells": [
  {
   "cell_type": "markdown",
   "metadata": {},
   "source": [
    "This exercise will require you to pull some data from the Qunadl API. Qaundl is currently the most widely used aggregator of financial market data."
   ]
  },
  {
   "cell_type": "markdown",
   "metadata": {},
   "source": [
    "As a first step, you will need to register a free account on the http://www.quandl.com website."
   ]
  },
  {
   "cell_type": "markdown",
   "metadata": {},
   "source": [
    "After you register, you will be provided with a unique API key, that you should store:"
   ]
  },
  {
   "cell_type": "code",
   "execution_count": 1,
   "metadata": {},
   "outputs": [],
   "source": [
    "# Store the API key as a string - according to PEP8, constants are always named in all upper case\n",
    "API_KEY = '81yX4WyndJxyskLnKWyS'"
   ]
  },
  {
   "cell_type": "markdown",
   "metadata": {},
   "source": [
    "Qaundl has a large number of data sources, but, unfortunately, most of them require a Premium subscription. Still, there are also a good number of free datasets."
   ]
  },
  {
   "cell_type": "markdown",
   "metadata": {},
   "source": [
    "For this mini project, we will focus on equities data from the Frankfurt Stock Exhange (FSE), which is available for free. We'll try and analyze the stock prices of a company called Carl Zeiss Meditec, which manufactures tools for eye examinations, as well as medical lasers for laser eye surgery: https://www.zeiss.com/meditec/int/home.html. The company is listed under the stock ticker AFX_X."
   ]
  },
  {
   "cell_type": "markdown",
   "metadata": {},
   "source": [
    "You can find the detailed Quandl API instructions here: https://docs.quandl.com/docs/time-series"
   ]
  },
  {
   "cell_type": "markdown",
   "metadata": {},
   "source": [
    "While there is a dedicated Python package for connecting to the Quandl API, we would prefer that you use the *requests* package, which can be easily downloaded using *pip* or *conda*. You can find the documentation for the package here: http://docs.python-requests.org/en/master/ "
   ]
  },
  {
   "cell_type": "markdown",
   "metadata": {},
   "source": [
    "Finally, apart from the *requests* package, you are encouraged to not use any third party Python packages, such as *pandas*, and instead focus on what's available in the Python Standard Library (the *collections* module might come in handy: https://pymotw.com/3/collections/).\n",
    "Also, since you won't have access to DataFrames, you are encouraged to us Python's native data structures - preferably dictionaries, though some questions can also be answered using lists.\n",
    "You can read more on these data structures here: https://docs.python.org/3/tutorial/datastructures.html"
   ]
  },
  {
   "cell_type": "markdown",
   "metadata": {},
   "source": [
    "Keep in mind that the JSON responses you will be getting from the API map almost one-to-one to Python's dictionaries. Unfortunately, they can be very nested, so make sure you read up on indexing dictionaries in the documentation provided above."
   ]
  },
  {
   "cell_type": "code",
   "execution_count": 2,
   "metadata": {},
   "outputs": [],
   "source": [
    "# First, import the relevant modules\n",
    "from __future__ import print_function\n",
    "import json\n",
    "from collections import namedtuple, OrderedDict\n",
    "\n",
    "import requests"
   ]
  },
  {
   "cell_type": "code",
   "execution_count": 3,
   "metadata": {},
   "outputs": [],
   "source": [
    "# Now, call the Quandl API and pull out a small sample of the data (only one day) to get a glimpse\n",
    "# into the JSON structure that will be returned\n",
    "base_url = 'https://www.quandl.com/api/v3/datasets/FSE/AFX_X?api_key={}'.format(API_KEY)\n",
    "\n",
    "url = '{}&start_date={}&end_date={}'.format(base_url, '2018-08-29', '2018-08-29')\n",
    "\n",
    "r = requests.get(url)\n",
    "if r.status_code != requests.codes.ok:\n",
    "    print('API ERROR: ({}) -{} '.format(r.status_code, r.text))"
   ]
  },
  {
   "cell_type": "code",
   "execution_count": 4,
   "metadata": {
    "scrolled": true
   },
   "outputs": [
    {
     "data": {
      "text/plain": [
       "{u'dataset': {u'collapse': None,\n",
       "  u'column_index': None,\n",
       "  u'column_names': [u'Date',\n",
       "   u'Open',\n",
       "   u'High',\n",
       "   u'Low',\n",
       "   u'Close',\n",
       "   u'Change',\n",
       "   u'Traded Volume',\n",
       "   u'Turnover',\n",
       "   u'Last Price of the Day',\n",
       "   u'Daily Traded Units',\n",
       "   u'Daily Turnover'],\n",
       "  u'data': [[u'2018-08-29',\n",
       "    None,\n",
       "    76.85,\n",
       "    75.6,\n",
       "    76.6,\n",
       "    None,\n",
       "    74039.0,\n",
       "    5666123.0,\n",
       "    None,\n",
       "    None,\n",
       "    None]],\n",
       "  u'database_code': u'FSE',\n",
       "  u'database_id': 6129,\n",
       "  u'dataset_code': u'AFX_X',\n",
       "  u'description': u'Stock Prices for Carl Zeiss Meditec (AFX) from the Frankfurt Stock Exchange.<br><br>Trading System: Xetra<br><br>ISIN: DE0005313704',\n",
       "  u'end_date': u'2018-08-29',\n",
       "  u'frequency': u'daily',\n",
       "  u'id': 10095370,\n",
       "  u'limit': None,\n",
       "  u'name': u'Carl Zeiss Meditec (AFX_X)',\n",
       "  u'newest_available_date': u'2018-08-31',\n",
       "  u'oldest_available_date': u'2000-06-07',\n",
       "  u'order': None,\n",
       "  u'premium': False,\n",
       "  u'refreshed_at': u'2018-08-31T22:27:50.837Z',\n",
       "  u'start_date': u'2018-08-29',\n",
       "  u'transform': None,\n",
       "  u'type': u'Time Series'}}"
      ]
     },
     "execution_count": 4,
     "metadata": {},
     "output_type": "execute_result"
    }
   ],
   "source": [
    "# Inspect the JSON structure of the object you created, and take note of how nested it is,\n",
    "# as well as the overall structure\n",
    "r.json()"
   ]
  },
  {
   "cell_type": "markdown",
   "metadata": {},
   "source": [
    "These are your tasks for this mini project:\n",
    "\n",
    "1. Collect data from the Franfurt Stock Exchange, for the ticker AFX_X, for the whole year 2017 (keep in mind that the date format is YYYY-MM-DD).\n",
    "2. Convert the returned JSON object into a Python dictionary.\n",
    "3. Calculate what the highest and lowest opening prices were for the stock in this period.\n",
    "4. What was the largest change in any one day (based on High and Low price)?\n",
    "5. What was the largest change between any two days (based on Closing Price)?\n",
    "6. What was the average daily trading volume during this year?\n",
    "7. (Optional) What was the median trading volume during this year. (Note: you may need to implement your own function for calculating the median.)"
   ]
  },
  {
   "cell_type": "markdown",
   "metadata": {
    "collapsed": true
   },
   "source": [
    "# 1. Collect data from the Franfurt Stock Exchange, for the ticker AFX_X, for the whole year 2017 (keep in mind that the date format is YYYY-MM-DD)."
   ]
  },
  {
   "cell_type": "code",
   "execution_count": 5,
   "metadata": {},
   "outputs": [],
   "source": [
    "# Construct the url and use requests to fetch the data. Make sure the response code isn't an HTTP error then access\n",
    "# JSON response data\n",
    "url = '{}&start_date={}&end_date={}'.format(base_url, '2017-01-01', '2017-12-31')\n",
    "\n",
    "r = requests.get(url)\n",
    "if r.status_code != requests.codes.ok:\n",
    "    print('API ERROR: ({}) -{} '.format(r.status_code, r.text))"
   ]
  },
  {
   "cell_type": "markdown",
   "metadata": {},
   "source": [
    "# 2. Convert the returned JSON object into a Python dictionary."
   ]
  },
  {
   "cell_type": "code",
   "execution_count": 6,
   "metadata": {},
   "outputs": [
    {
     "data": {
      "text/plain": [
       "dict"
      ]
     },
     "execution_count": 6,
     "metadata": {},
     "output_type": "execute_result"
    }
   ],
   "source": [
    "# Calling r.json() does indeed produce a dictionary as requested\n",
    "resp_dict = r.json()\n",
    "type(resp_dict)"
   ]
  },
  {
   "cell_type": "code",
   "execution_count": 7,
   "metadata": {},
   "outputs": [
    {
     "name": "stdout",
     "output_type": "stream",
     "text": [
      "2017-01-02: StockSummary(date=u'2017-01-02', open=34.99, high=35.94, low=34.99, close=35.8, change=None, traded_volume=44700.0, turnover=1590561.0, last_price_of_the_day=None, daily_traded_units=None, daily_turnover=None)\n",
      "2017-01-03: StockSummary(date=u'2017-01-03', open=35.9, high=35.93, low=35.34, close=35.48, change=None, traded_volume=70618.0, turnover=2515473.0, last_price_of_the_day=None, daily_traded_units=None, daily_turnover=None)\n",
      "2017-01-04: StockSummary(date=u'2017-01-04', open=35.48, high=35.51, low=34.75, close=35.19, change=None, traded_volume=54408.0, turnover=1906810.0, last_price_of_the_day=None, daily_traded_units=None, daily_turnover=None)\n",
      "2017-01-05: StockSummary(date=u'2017-01-05', open=35.02, high=35.2, low=34.73, close=35.06, change=None, traded_volume=48412.0, turnover=1692326.0, last_price_of_the_day=None, daily_traded_units=None, daily_turnover=None)\n",
      "2017-01-06: StockSummary(date=u'2017-01-06', open=34.91, high=35.21, low=34.91, close=35.04, change=None, traded_volume=27507.0, turnover=964046.0, last_price_of_the_day=None, daily_traded_units=None, daily_turnover=None)\n",
      "2017-01-09: StockSummary(date=u'2017-01-09', open=35.29, high=35.35, low=34.43, close=34.67, change=None, traded_volume=62225.0, turnover=2157182.0, last_price_of_the_day=None, daily_traded_units=None, daily_turnover=None)\n",
      "2017-01-10: StockSummary(date=u'2017-01-10', open=34.8, high=34.98, low=34.46, close=34.91, change=None, traded_volume=43976.0, turnover=1528055.0, last_price_of_the_day=None, daily_traded_units=None, daily_turnover=None)\n",
      "2017-01-11: StockSummary(date=u'2017-01-11', open=34.95, high=36.0, low=34.84, close=35.42, change=None, traded_volume=123530.0, turnover=4369079.0, last_price_of_the_day=None, daily_traded_units=None, daily_turnover=None)\n",
      "2017-01-12: StockSummary(date=u'2017-01-12', open=35.38, high=35.38, low=34.31, close=34.9, change=None, traded_volume=163860.0, turnover=5703427.0, last_price_of_the_day=None, daily_traded_units=None, daily_turnover=None)\n",
      "2017-01-13: StockSummary(date=u'2017-01-13', open=34.98, high=34.98, low=34.6, close=34.85, change=None, traded_volume=59367.0, turnover=2065534.0, last_price_of_the_day=None, daily_traded_units=None, daily_turnover=None)\n"
     ]
    }
   ],
   "source": [
    "# ...However, it's not very useful in answering questions 3 - 7.  \n",
    "#\n",
    "# It's much more useful to store the response as an OrderedDict of NamedTuples.  The OrderedDict will come in \n",
    "# very handy for question 5 and NamedTuples make access to to daily stock data cleaner through dot syntax.\n",
    "#\n",
    "# First, get the column names and list of daily data from the JSON response\n",
    "resp = r.json()['dataset']\n",
    "day_keys = resp.get('column_names', None)\n",
    "data = resp.get('data', None)\n",
    "\n",
    "data_2017 = OrderedDict()\n",
    "\n",
    "# The returned column names are mixed case and have spaces making them awkward to use for NamedTuple properties.\n",
    "# Use a list comp to convert them to lower case and replace spaces with underscores\n",
    "cleaned_names = [name.lower().replace(' ', '_') for name in day_keys]\n",
    "StockSummary = namedtuple('StockSummary', cleaned_names)\n",
    "\n",
    "# Iterate through the list of stock data, create a StockSummary NamedTuple for each day and\n",
    "# insert into the ordered dict, using the date as key. Use the unpack operator \n",
    "# to pass args to StockSummary.\n",
    "if data is not None and day_keys is not None:\n",
    "    for day in reversed(data):\n",
    "        close_info = StockSummary(*day)\n",
    "        data_2017[close_info.date] = close_info\n",
    "\n",
    "# Just print a few elements from the OrderedDict to make sure it loaded properly\n",
    "count = 0\n",
    "for date, info in data_2017.items():\n",
    "    print('{}: {}'.format(date, info))\n",
    "    count += 1\n",
    "    if count == 10:\n",
    "        break"
   ]
  },
  {
   "cell_type": "markdown",
   "metadata": {},
   "source": [
    "# 3. Calculate what the highest and lowest opening prices were for the stock in this period."
   ]
  },
  {
   "cell_type": "markdown",
   "metadata": {},
   "source": [
    "I answered each question with a function.  Not totally necessary in a Jupyter Notebook but a little cleaner, I think.  If this was outside of a Notebook then I'd add docstrings to each function but I'll skip that here."
   ]
  },
  {
   "cell_type": "code",
   "execution_count": 8,
   "metadata": {},
   "outputs": [
    {
     "name": "stdout",
     "output_type": "stream",
     "text": [
      "The opening high was 53.11 on 2017-12-14\n",
      "The opening low was 34.0 on 2017-01-24\n"
     ]
    }
   ],
   "source": [
    "def opening_high_low(stock_data):\n",
    "    low = 99999.00\n",
    "    low_date = None\n",
    "    high = 0.00\n",
    "    high_date = None\n",
    "\n",
    "    # Iterate through the stock date and find the\n",
    "    # high and low opening prices.  Note that some open\n",
    "    # values are None so the check is necessary.\n",
    "    for date, stock in stock_data.items():\n",
    "        if stock.open is not None:\n",
    "            if stock.open > high:\n",
    "                high = stock.open\n",
    "                high_date = date\n",
    "            if stock.open < low:\n",
    "                low = stock.open\n",
    "                low_date = date\n",
    "\n",
    "    # It would probably be cleaner to return this as a NamedTuple\n",
    "    return high, high_date, low, low_date\n",
    "\n",
    "high, high_date, low, low_date = opening_high_low(data_2017)\n",
    "print('The opening high was {} on {}'.format(high, high_date))\n",
    "print('The opening low was {} on {}'.format(low, low_date))"
   ]
  },
  {
   "cell_type": "markdown",
   "metadata": {},
   "source": [
    "# 4. What was the largest change in any one day (based on High and Low price)?"
   ]
  },
  {
   "cell_type": "code",
   "execution_count": 9,
   "metadata": {},
   "outputs": [
    {
     "name": "stdout",
     "output_type": "stream",
     "text": [
      "The largest intraday change was 2.81 on 2017-05-11\n"
     ]
    }
   ],
   "source": [
    "def largest_intraday_change(stock_data):\n",
    "    largest = 0\n",
    "    largest_date = None\n",
    "\n",
    "    # Iterate through the stock data and find the biggest intra-day\n",
    "    # change by subtracting high and low.\n",
    "    for date, stock in stock_data.items():\n",
    "        if stock.high is not None and stock.low is not None:\n",
    "            delta = stock.high - stock.low\n",
    "            if delta > largest:\n",
    "                largest = delta\n",
    "                largest_date = date\n",
    "\n",
    "    return largest, largest_date\n",
    "\n",
    "largest, date = largest_intraday_change(data_2017)\n",
    "print('The largest intraday change was {:.2f} on {}'.format(largest, date))"
   ]
  },
  {
   "cell_type": "markdown",
   "metadata": {},
   "source": [
    "# 5. What was the largest change between any two days (based on Closing Price)?"
   ]
  },
  {
   "cell_type": "code",
   "execution_count": 10,
   "metadata": {},
   "outputs": [
    {
     "name": "stdout",
     "output_type": "stream",
     "text": [
      "The largest day-to-day change was -2.56 and happened between 2017-08-08 and 2017-08-09\n"
     ]
    }
   ],
   "source": [
    "def largest_day_to_day_change(stock_data):\n",
    "    largest = 0\n",
    "    prior_close = None\n",
    "    prior_date = None\n",
    "    largest_date = None\n",
    "    direction = 0\n",
    "\n",
    "    # Iterate through the stock data and find the biggest absolute\n",
    "    # change but preserve the direction (up or down).  Start comparing\n",
    "    # as of the second trading day of the year and compare against the\n",
    "    # prior day's close. Note that this works because the data was stored\n",
    "    # as an OrderedDict with sequential dates as the keys.\n",
    "    for date, stock in stock_data.items():\n",
    "        if stock.close is not None and prior_close is not None:\n",
    "            delta = stock.close - prior_close\n",
    "            abs_delta = abs(delta)\n",
    "            if abs_delta > largest:\n",
    "                largest = abs_delta\n",
    "                direction = delta / abs_delta\n",
    "                largest_date = '{} and {}'.format(prior_date, date)\n",
    "\n",
    "        prior_close = stock.close\n",
    "        prior_date = date\n",
    "\n",
    "    return (largest * direction), largest_date\n",
    "\n",
    "largest, dates = largest_day_to_day_change(data_2017)\n",
    "print('The largest day-to-day change was {:.2f} and happened between {}'.format(largest, dates))"
   ]
  },
  {
   "cell_type": "markdown",
   "metadata": {},
   "source": [
    "# 6. What was the average daily trading volume during this year?"
   ]
  },
  {
   "cell_type": "code",
   "execution_count": 11,
   "metadata": {},
   "outputs": [
    {
     "name": "stdout",
     "output_type": "stream",
     "text": [
      "The average daily trading volume for 2017 was 89124 shares\n"
     ]
    }
   ],
   "source": [
    "def average_volume(stock_data):\n",
    "    total_volume = 0\n",
    "    total_days = 0\n",
    "\n",
    "    # Calculate the average volume by adding up the total volume\n",
    "    # and dividing by the number of trading days. Return the average\n",
    "    # as an int since fractional shares don't really make sense.\n",
    "    for date, stock in stock_data.items():\n",
    "        if stock.traded_volume is not None:\n",
    "            total_volume += stock.traded_volume\n",
    "            total_days += 1\n",
    "\n",
    "    return int(total_volume / total_days)\n",
    "\n",
    "avg_volume = average_volume(data_2017)\n",
    "print('The average daily trading volume for 2017 was {} shares'.format(avg_volume))"
   ]
  },
  {
   "cell_type": "markdown",
   "metadata": {},
   "source": [
    "# 7. (Optional) What was the median trading volume during this year. (Note: you may need to implement your own function for calculating the median.)"
   ]
  },
  {
   "cell_type": "code",
   "execution_count": 12,
   "metadata": {},
   "outputs": [
    {
     "name": "stdout",
     "output_type": "stream",
     "text": [
      "The median daily trading volume for 2017 was 76286 shares\n"
     ]
    }
   ],
   "source": [
    "def median_volume(stock_data):\n",
    "    daily_volume = []\n",
    "\n",
    "    # The median value is just the middle value of the sorted list of values.\n",
    "    # Start by creating a sorted list of daily trading volumes\n",
    "    for date, stock in stock_data.items():\n",
    "        if stock.traded_volume is not None:\n",
    "            daily_volume.append(stock.traded_volume)\n",
    "\n",
    "    sorted_volume = sorted(daily_volume)\n",
    "    \n",
    "    # Now, find the middle value. If the length is even then you have to average\n",
    "    # the two center values to get the median.  Otherwise, if the length is odd\n",
    "    # then it's just the middle value\n",
    "    trading_days = len(daily_volume)\n",
    "    if trading_days % 2 == 0:\n",
    "        idx = trading_days / 2\n",
    "        median = (sorted_volume[idx] + sorted_volume[idx - 1]) / 2\n",
    "    else:\n",
    "        idx = trading_days // 2\n",
    "        median = sorted_volume[idx]\n",
    "\n",
    "    return int(median)\n",
    "\n",
    "median = median_volume(data_2017)\n",
    "print('The median daily trading volume for 2017 was {} shares'.format(median))"
   ]
  },
  {
   "cell_type": "code",
   "execution_count": null,
   "metadata": {},
   "outputs": [],
   "source": []
  }
 ],
 "metadata": {
  "kernelspec": {
   "display_name": "Python 2",
   "language": "python",
   "name": "python2"
  },
  "language_info": {
   "codemirror_mode": {
    "name": "ipython",
    "version": 2
   },
   "file_extension": ".py",
   "mimetype": "text/x-python",
   "name": "python",
   "nbconvert_exporter": "python",
   "pygments_lexer": "ipython2",
   "version": "2.7.15"
  }
 },
 "nbformat": 4,
 "nbformat_minor": 2
}
